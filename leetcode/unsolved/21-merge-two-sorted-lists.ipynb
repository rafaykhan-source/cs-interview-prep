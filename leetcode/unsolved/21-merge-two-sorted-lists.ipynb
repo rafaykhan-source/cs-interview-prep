{
 "cells": [
  {
   "cell_type": "markdown",
   "metadata": {},
   "source": [
    "### Merge two sorted linked lists and return it as a new sorted list. The new list should be made by splicing together the nodes of the first two lists.\n"
   ]
  },
  {
   "cell_type": "code",
   "execution_count": 71,
   "metadata": {},
   "outputs": [],
   "source": [
    "# Definition of a List Node\n",
    "class Node():\n",
    "    def __init__(self, val: int = 0, next = None) -> None:\n",
    "        self.val = val\n",
    "        self.next = next\n",
    "    \n",
    "    def __str__(self) -> str:\n",
    "        return f\"({self.val}) -> {self.next}\"\n"
   ]
  },
  {
   "cell_type": "code",
   "execution_count": 72,
   "metadata": {},
   "outputs": [],
   "source": [
    "def convert_list_to_linked_list(nums: list) -> Node:\n",
    "    dummy = Node()\n",
    "    curr = dummy\n",
    "    \n",
    "    for n in nums:\n",
    "        curr.next = Node(n)\n",
    "        curr = curr.next\n",
    "    \n",
    "    return dummy.next"
   ]
  },
  {
   "cell_type": "code",
   "execution_count": 73,
   "metadata": {},
   "outputs": [],
   "source": [
    "def merge_two_sorted_lists(l1: Node, l2: Node) -> Node:\n",
    "    if l1.val < l2.val:\n",
    "        result = l1\n",
    "    else:\n",
    "        result = l2\n",
    "    \n",
    "    while l1 and l2:\n",
    "        if l1.val <= l2.val:\n",
    "            save = l1.next\n",
    "            l1.next = l2\n",
    "            l1 = save\n",
    "        else:\n",
    "            save = l2.next\n",
    "            l2.next = l1\n",
    "            l2 = save\n",
    "        \n",
    "    \n",
    "    return result"
   ]
  },
  {
   "cell_type": "code",
   "execution_count": 74,
   "metadata": {},
   "outputs": [],
   "source": [
    "def test(list_1: list, list_2: list) -> None:\n",
    "    l1 = convert_list_to_linked_list(list_1)\n",
    "    l2 = convert_list_to_linked_list(list_2)\n",
    "    print(merge_two_sorted_lists(l1, l2))"
   ]
  },
  {
   "cell_type": "code",
   "execution_count": 75,
   "metadata": {},
   "outputs": [
    {
     "name": "stdout",
     "output_type": "stream",
     "text": [
      "(1) -> (2) -> (3) -> (4) -> (4) -> None\n",
      "(1) -> (2) -> (3) -> (4) -> None\n"
     ]
    }
   ],
   "source": [
    "test([1,2,4], [1,3,4])\n",
    "test([1,2,4], [1, 3, 3, 3, 3, 3])"
   ]
  }
 ],
 "metadata": {
  "kernelspec": {
   "display_name": "prepenv",
   "language": "python",
   "name": "python3"
  },
  "language_info": {
   "codemirror_mode": {
    "name": "ipython",
    "version": 3
   },
   "file_extension": ".py",
   "mimetype": "text/x-python",
   "name": "python",
   "nbconvert_exporter": "python",
   "pygments_lexer": "ipython3",
   "version": "3.10.9"
  },
  "orig_nbformat": 4
 },
 "nbformat": 4,
 "nbformat_minor": 2
}

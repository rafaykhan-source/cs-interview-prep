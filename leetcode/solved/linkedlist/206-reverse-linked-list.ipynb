{
 "cells": [
  {
   "attachments": {},
   "cell_type": "markdown",
   "metadata": {},
   "source": [
    "### Reverse a Singly Linked List"
   ]
  },
  {
   "cell_type": "code",
   "execution_count": 42,
   "metadata": {},
   "outputs": [],
   "source": [
    "class Node():\n",
    "    def __init__(self, val: int = 0, next = None):\n",
    "        self.val = val\n",
    "        self.next = next\n",
    "    \n",
    "    def __str__(self):\n",
    "        return f\"({self.val}) -> {self.next}\""
   ]
  },
  {
   "cell_type": "code",
   "execution_count": 43,
   "metadata": {},
   "outputs": [],
   "source": [
    "def reverse(head: Node) -> Node:\n",
    "    prev, curr, ahead = None, head, None\n",
    "    \n",
    "    while curr:\n",
    "        ahead = curr.next\n",
    "        curr.next = prev\n",
    "        prev = curr\n",
    "        curr = ahead\n",
    "    \n",
    "    return prev"
   ]
  },
  {
   "cell_type": "code",
   "execution_count": 44,
   "metadata": {},
   "outputs": [],
   "source": [
    "def create_linked_list(nums: list) -> Node:\n",
    "    dummy = Node()\n",
    "    curr = dummy\n",
    "    \n",
    "    for n in nums:\n",
    "        curr.next = Node(n)\n",
    "        curr = curr.next\n",
    "        \n",
    "    return dummy.next"
   ]
  },
  {
   "cell_type": "code",
   "execution_count": 45,
   "metadata": {},
   "outputs": [],
   "source": [
    "def show_test_result(test: list) -> None:\n",
    "    example = create_linked_list(test)\n",
    "    print(example)\n",
    "    print(reverse(example))\n",
    "    \n",
    "    return"
   ]
  },
  {
   "cell_type": "code",
   "execution_count": 46,
   "metadata": {},
   "outputs": [
    {
     "name": "stdout",
     "output_type": "stream",
     "text": [
      "(1) -> (2) -> (3) -> (4) -> (5) -> None\n",
      "(5) -> (4) -> (3) -> (2) -> (1) -> None\n",
      "(3) -> (6) -> (9) -> (12) -> None\n",
      "(12) -> (9) -> (6) -> (3) -> None\n",
      "(1) -> (2) -> None\n",
      "(2) -> (1) -> None\n",
      "(1) -> None\n",
      "(1) -> None\n"
     ]
    }
   ],
   "source": [
    "show_test_result([1, 2, 3, 4, 5])\n",
    "show_test_result([3, 6, 9, 12])\n",
    "show_test_result([1, 2])\n",
    "show_test_result([1])"
   ]
  }
 ],
 "metadata": {
  "kernelspec": {
   "display_name": "Python 3",
   "language": "python",
   "name": "python3"
  },
  "language_info": {
   "codemirror_mode": {
    "name": "ipython",
    "version": 3
   },
   "file_extension": ".py",
   "mimetype": "text/x-python",
   "name": "python",
   "nbconvert_exporter": "python",
   "pygments_lexer": "ipython3",
   "version": "3.10.9"
  },
  "orig_nbformat": 4
 },
 "nbformat": 4,
 "nbformat_minor": 2
}
